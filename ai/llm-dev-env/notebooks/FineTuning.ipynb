{
 "cells": [
  {
   "cell_type": "code",
   "execution_count": 2,
   "id": "c599996e-92f7-4dfd-9423-9d22c1bb7a79",
   "metadata": {},
   "outputs": [
    {
     "name": "stdout",
     "output_type": "stream",
     "text": [
      "OLLAMA_HOST environment variable: http://ollama_container:11434\n",
      "\n",
      "Intentando conectar a Ollama y usar el modelo: gemma:2b\n",
      "\n",
      "Respuesta del modelo:\n",
      "Soy un modelo de lenguaje artificial. Soy desarrollado por Google.\n"
     ]
    }
   ],
   "source": [
    "import ollama\n",
    "import os # Solo para verificar (opcional)\n",
    "\n",
    "# Opcional: Verifica si la variable de entorno está configurada dentro del contenedor\n",
    "print(f\"OLLAMA_HOST environment variable: {os.getenv('OLLAMA_HOST')}\")\n",
    "\n",
    "model_name = 'gemma:2b' # Asegúrate de que este modelo esté descargado\n",
    "\n",
    "try:\n",
    "    print(f\"\\nIntentando conectar a Ollama y usar el modelo: {model_name}\")\n",
    "    response = ollama.chat(model=model_name, messages=[\n",
    "      {\n",
    "        'role': 'user',\n",
    "        'content': '¿Cómo te llamas?',\n",
    "      },\n",
    "    ])\n",
    "    print(\"\\nRespuesta del modelo:\")\n",
    "    print(response['message']['content'])\n",
    "except Exception as e:\n",
    "    print(f\"\\nError al interactuar con Ollama: {e}\")\n",
    "    print(\"Verifica:\")\n",
    "    print(\"1. Que los contenedores estén corriendo ('make logs' o 'docker ps').\")\n",
    "    print(f\"2. Que el modelo '{model_name}' esté descargado ('make list-models').\")\n",
    "    print(\"3. La configuración de red en docker-compose.yml (OLLAMA_HOST).\")"
   ]
  },
  {
   "cell_type": "code",
   "execution_count": null,
   "id": "f78e3cea-1c6d-42a6-bc3c-32e2b217046b",
   "metadata": {},
   "outputs": [],
   "source": []
  }
 ],
 "metadata": {
  "kernelspec": {
   "display_name": "Python 3 (ipykernel)",
   "language": "python",
   "name": "python3"
  },
  "language_info": {
   "codemirror_mode": {
    "name": "ipython",
    "version": 3
   },
   "file_extension": ".py",
   "mimetype": "text/x-python",
   "name": "python",
   "nbconvert_exporter": "python",
   "pygments_lexer": "ipython3",
   "version": "3.10.17"
  }
 },
 "nbformat": 4,
 "nbformat_minor": 5
}
